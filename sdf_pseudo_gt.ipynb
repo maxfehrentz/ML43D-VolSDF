{
 "cells": [
  {
   "cell_type": "markdown",
   "id": "36501982-772b-4f5e-94b4-9d0ae2f1cb2a",
   "metadata": {},
   "source": [
    "# VolSDF Experiments"
   ]
  },
  {
   "cell_type": "markdown",
   "id": "9b7df98d-0f29-4b7c-8a42-019418f41cad",
   "metadata": {},
   "source": [
    "### Install patched cuda version for 30 series GPU"
   ]
  },
  {
   "cell_type": "code",
   "execution_count": null,
   "id": "ce9bac27",
   "metadata": {},
   "outputs": [],
   "source": [
    "# For compatibility with cluster GPU\n",
    "!pip uninstall torch -y\n",
    "!pip install torch torchvision torchaudio --index-url https://download.pytorch.org/whl/cu118"
   ]
  },
  {
   "cell_type": "markdown",
   "id": "cd3a906c-56ce-44e6-88e0-7777c21de27e",
   "metadata": {},
   "source": [
    "## Training with original data"
   ]
  },
  {
   "cell_type": "markdown",
   "id": "9d2946da-4f04-468a-a4f1-94b05cf6ccf9",
   "metadata": {},
   "source": [
    "### Download DTU dataset"
   ]
  },
  {
   "cell_type": "markdown",
   "id": "d85cf07a-bba0-48f0-9284-1404fb2386d4",
   "metadata": {},
   "source": [
    "### Run Training"
   ]
  },
  {
   "cell_type": "code",
   "execution_count": null,
   "id": "8d69f2b7-3240-4d67-8cfa-c1bd452f5eb0",
   "metadata": {
    "scrolled": true
   },
   "outputs": [],
   "source": [
    "# Training with original data, for debugging\n",
    "\n",
    "%cd ./code\n",
    "\n",
    "!python training/exp_runner.py --conf ./confs/dtu.conf --scan_id 105 #SCAN_ID"
   ]
  },
  {
   "cell_type": "markdown",
   "id": "86805fd4-eae2-4d17-a6c1-4b4c51c5031a",
   "metadata": {},
   "source": [
    "### Run Evaluation"
   ]
  },
  {
   "cell_type": "code",
   "execution_count": null,
   "id": "30a54fa6-7ef0-40f7-975d-efb896df93b6",
   "metadata": {},
   "outputs": [],
   "source": [
    "# %cd code\n",
    "\n",
    "# !python code/evaluation/eval.py  --conf ./code/confs/dtu.conf --scan_id SCAN_ID --checkpoint CHECKPOINT [--eval_rendering]"
   ]
  },
  {
   "cell_type": "markdown",
   "id": "448d968b-16ed-4f9e-99ab-08f1beaf3ba7",
   "metadata": {},
   "source": [
    "## Training with ShapeNet Pictures"
   ]
  },
  {
   "cell_type": "code",
   "execution_count": null,
   "id": "b3fca944",
   "metadata": {
    "scrolled": true
   },
   "outputs": [],
   "source": [
    "import os\n",
    "import numpy as np\n",
    "import shutil\n",
    "from tqdm import tqdm\n",
    "\n",
    "from data_preprocessing import preprocess_cameras, normalize_cameras\n",
    "\n",
    "# Define input and output paths\n",
    "input_folder = os.path.join('.','data','NMR_Dataset')\n",
    "output_folder = os.path.join('.','data', 'NMR_Dataset_preprocessed')\n",
    "\n",
    "# Run preprocessing\n",
    "preprocess_cameras(input_folder, output_folder, 100, 64, 64)\n",
    "normalize_cameras(output_folder)"
   ]
  },
  {
   "cell_type": "code",
   "execution_count": null,
   "id": "457fcb19",
   "metadata": {
    "scrolled": true
   },
   "outputs": [],
   "source": [
    "%cd code\n",
    "\n",
    "!python training/exp_runner.py --conf ./confs/nmr.conf --scan_id 1 #SCAN_ID\n",
    "\n",
    "%cd .."
   ]
  },
  {
   "cell_type": "code",
   "execution_count": null,
   "id": "3f8f026c-882a-4c11-b527-706ee1a4fdb7",
   "metadata": {
    "scrolled": true
   },
   "outputs": [],
   "source": [
    "import numpy as np\n",
    "\n",
    "# Path to your .npz file\n",
    "file_path = \"../volsdf/data/DTU/scan105/cameras.npz\"\n",
    "\n",
    "# Load the .npz file\n",
    "data = np.load(file_path)\n",
    "\n",
    "# Print the keys to see what arrays are stored in the file\n",
    "print(\"Keys in the npz file:\", data.files)\n",
    "\n",
    "# Iterate through the keys and print each array\n",
    "for key in data.files:\n",
    "    print(f\"Array '{key}':\")\n",
    "    print(data[key])"
   ]
  },
  {
   "cell_type": "code",
   "execution_count": null,
   "id": "fd045094-5fc1-4d13-9e7d-cbc150779b29",
   "metadata": {
    "scrolled": true
   },
   "outputs": [],
   "source": [
    "import numpy as np\n",
    "\n",
    "# Path to your .npz file\n",
    "file_path = \"data/NMR_Dataset_preprocessed/scan1/cameras.npz\"\n",
    "\n",
    "# Load the .npz file\n",
    "data = np.load(file_path)\n",
    "\n",
    "# Print the keys to see what arrays are stored in the file\n",
    "print(\"Keys in the npz file:\", data.files)\n",
    "\n",
    "# Iterate through the keys and print each array\n",
    "for key in data.files:\n",
    "    print(f\"Array '{key}':\")\n",
    "    print(data[key])"
   ]
  },
  {
   "cell_type": "code",
   "execution_count": null,
   "id": "9dd99a2d-65e3-4afa-9d0d-a6544397355e",
   "metadata": {},
   "outputs": [],
   "source": [
    "import numpy as np\n",
    "\n",
    "# Path to your .npz file\n",
    "file_path = \"../volsdf/data/BlendedMVS/scan1/\"\n",
    "\n",
    "# Load the .npz file\n",
    "data = np.load(file_path)\n",
    "\n",
    "# Print the keys to see what arrays are stored in the file\n",
    "print(\"Keys in the npz file:\", data.files)\n",
    "\n",
    "# Iterate through the keys and print each array\n",
    "for key in data.files:\n",
    "    print(f\"Array '{key}':\")\n",
    "    print(data[key])"
   ]
  }
 ],
 "metadata": {
  "kernelspec": {
   "display_name": "Python 3 (ipykernel)",
   "language": "python",
   "name": "python3"
  },
  "language_info": {
   "codemirror_mode": {
    "name": "ipython",
    "version": 3
   },
   "file_extension": ".py",
   "mimetype": "text/x-python",
   "name": "python",
   "nbconvert_exporter": "python",
   "pygments_lexer": "ipython3",
   "version": "3.9.0"
  }
 },
 "nbformat": 4,
 "nbformat_minor": 5
}
